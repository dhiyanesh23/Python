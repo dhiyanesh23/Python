{
  "nbformat": 4,
  "nbformat_minor": 0,
  "metadata": {
    "colab": {
      "name": "Zoho.ipynb",
      "provenance": [],
      "collapsed_sections": [],
      "authorship_tag": "ABX9TyPzBzP8WusB3jW4MJPL5ODV",
      "include_colab_link": true
    },
    "kernelspec": {
      "name": "python3",
      "display_name": "Python 3"
    },
    "language_info": {
      "name": "python"
    }
  },
  "cells": [
    {
      "cell_type": "markdown",
      "metadata": {
        "id": "view-in-github",
        "colab_type": "text"
      },
      "source": [
        "<a href=\"https://colab.research.google.com/github/dhiyanesh23/Python/blob/main/Zoho.ipynb\" target=\"_parent\"><img src=\"https://colab.research.google.com/assets/colab-badge.svg\" alt=\"Open In Colab\"/></a>"
      ]
    },
    {
      "cell_type": "code",
      "metadata": {
        "colab": {
          "base_uri": "https://localhost:8080/"
        },
        "id": "UL6wQx_iF0nH",
        "outputId": "e09b38eb-ef1c-4fcd-e64a-dd417d77a991"
      },
      "source": [
        "from random import randint\n",
        "\n",
        "\n",
        "def add_customer():  #task2 adding new customers\n",
        "  new_customer_id = randint(100, 999) \n",
        "  customer[\"customer id\"].append(new_customer_id)\n",
        "  new_username = input(\"new customer user name: \")\n",
        "  customer[\"username\"].append(new_username)\n",
        "  new_customer_password = input(\"new customer password: \")\n",
        "  new_customer_password1 = input(\"reenter new customer password: \")\n",
        "  if new_customer_password == new_customer_password1:\n",
        "    customer[\"password\"].append(new_customer_password)\n",
        "  else:\n",
        "    print(\"check typos\")\n",
        "  customer[\"role\"].append(\"customer\")\n",
        "  print(\"updated customer DB: \", customer)\n",
        "\n",
        "def update_item():  #task3 updating an item\n",
        "  print(\"items: good day, pantene, lux, dove\")\n",
        "  p = input(\"item to be updated: \")\n",
        "  pi = item[\"item name\"].index(p)\n",
        "  new_price = int(input(\"new price: \"))\n",
        "  item[\"price\"][pi] = new_price\n",
        "  new_availability = int(input(\"new availability: \"))\n",
        "  item[\"available\"][pi] = new_availability \n",
        "  print(\"updated item DB: \", item)\n",
        "\n",
        "def billing():  #task4 billing operation\n",
        "  l1 = {\"items\": [], \"quantity\": []}  #order history dictionary (task5)\n",
        "  amount = 0\n",
        "  q = 1\n",
        "  while(q):\n",
        "    print(\"good day, pantene, lux, dove\")\n",
        "    x = input(\"choose item: \")\n",
        "    l1[\"items\"].append(x)\n",
        "    xi = item[\"item name\"].index(x)\n",
        "    y = int(input(\"choose quantity: \"))\n",
        "    l1[\"quantity\"].append(y)\n",
        "    amount = amount + y*item[\"price\"][xi]\n",
        "    q = int(input(\"0. finish shopping(place order), 1. continue shopping\"))\n",
        "  return amount, l1\n",
        "\n",
        "\n",
        "#task0: pre loading the data\n",
        "customer = {\"customer id\": [100, 101, 102],\n",
        "            \"username\": [\"admin\", \"kaushik\", \"vignesh\"],\n",
        "            \"password\": [\"admin123\", \"kaushik123\", \"vignesh123\"],\n",
        "            \"role\": [\"admin\", \"customer\", \"customer\"]}\n",
        "item = {\"item id\": [100, 101, 102, 103],\n",
        "        \"item name\": [\"good day\", \"pantene\", \"lux\", \"dove\"],\n",
        "        \"category\": [\"biscuit\", \"conditioner\", \"soap\", \"soap\"],\n",
        "        \"price\": [90, 110, 25, 45],\n",
        "        \"available\": [10, 10, 10, 10]}\n",
        "\n",
        "\n",
        "#task1: authentication\n",
        "n = int(input(\"customer id: \"))\n",
        "if n in customer[\"customer id\"]:\n",
        "  o = customer[\"customer id\"].index(n)\n",
        "  m = input(\"password: \")\n",
        "  if m == customer[\"password\"][o]:\n",
        "    print(\"login successful\")\n",
        "  else:\n",
        "    print(\"invalid password\")\n",
        "else:\n",
        "  print(\"invalid id\")\n",
        "\n",
        "if customer[\"role\"][o] == \"admin\":\n",
        "  print(\"choose \")\n",
        "  print(\"1. update item, 2. list the top selling items, 3. add new customer, 0. logout\")\n",
        "  i = int(input())\n",
        " \n",
        "  if i == 1:\n",
        "    update_item()\n",
        "  \n",
        "  if i == 3:\n",
        "    add_customer()\n",
        "\n",
        "if customer[\"role\"][o] == \"customer\":\n",
        "  print(\"choose \")\n",
        "  print(\"1. place order, 2. view order history, 0. logout \")\n",
        "  j = int(input())\n",
        "  dict1 = {}\n",
        "  \n",
        "  if j == 1:\n",
        "    price, dict1 = billing()\n",
        "    print(\"total amount: \", price)\n",
        "\n",
        "    #task6 discount coupons\n",
        "    ch = int(input(\"1. have coupon code, 2. confirm order\"))\n",
        "    if ch == 1:\n",
        "      code = input(\"coupon code: \")\n",
        "      if code == \"PROMO10\":\n",
        "        final_amount = price - 0.10*price\n",
        "      print(\"final amount: \", final_amount)\n",
        "    if ch == 2:\n",
        "      print(\"final amount: \", final_amount)\n",
        "  \n",
        "  if j == 2:\n",
        "    print(\"cart is empty\")\n",
        "    price, dict1 = billing()\n",
        "    print(\"order history: \", dict1) \n",
        "    \n",
        "\n",
        "\n",
        "\n",
        "\n",
        "\n",
        "\n",
        "\n"
      ],
      "execution_count": null,
      "outputs": [
        {
          "output_type": "stream",
          "text": [
            "customer id: 101\n",
            "password: kaushik123\n",
            "login successful\n",
            "choose \n",
            "1. place order, 2. view order history, 0. logout \n",
            "1\n",
            "good day, pantene, lux, dove\n",
            "choose item: good day\n",
            "choose quantity: 1\n",
            "0. finish shopping(place order), 1. continue shopping0\n",
            "total amount:  90\n",
            "1. have coupon code, 2. confirm order2\n",
            "final amount:  90.0\n"
          ],
          "name": "stdout"
        }
      ]
    },
    {
      "cell_type": "code",
      "metadata": {
        "id": "yJ7cV666GECh"
      },
      "source": [
        ""
      ],
      "execution_count": null,
      "outputs": []
    }
  ]
}
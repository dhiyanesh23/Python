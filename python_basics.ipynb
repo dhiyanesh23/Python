{
  "nbformat": 4,
  "nbformat_minor": 0,
  "metadata": {
    "colab": {
      "name": "python_basics.ipynb",
      "provenance": [],
      "collapsed_sections": [],
      "authorship_tag": "ABX9TyMylwuklyyPI0Icuwz4O6Hm",
      "include_colab_link": true
    },
    "kernelspec": {
      "name": "python3",
      "display_name": "Python 3"
    },
    "language_info": {
      "name": "python"
    }
  },
  "cells": [
    {
      "cell_type": "markdown",
      "metadata": {
        "id": "view-in-github",
        "colab_type": "text"
      },
      "source": [
        "<a href=\"https://colab.research.google.com/github/dhiyanesh23/Python/blob/main/python_basics.ipynb\" target=\"_parent\"><img src=\"https://colab.research.google.com/assets/colab-badge.svg\" alt=\"Open In Colab\"/></a>"
      ]
    },
    {
      "cell_type": "code",
      "metadata": {
        "colab": {
          "base_uri": "https://localhost:8080/"
        },
        "id": "QfyhmL-nRJyK",
        "outputId": "c5452d6f-3e96-40a7-e2c2-c336603143d2"
      },
      "source": [
        "print(\"dhiyanesh\")  #print\n",
        "x = input(\"enter \")  #stdin\n",
        "print(x)  #stdout"
      ],
      "execution_count": null,
      "outputs": [
        {
          "output_type": "stream",
          "text": [
            "dhiyanesh\n",
            "enter 23\n",
            "23\n"
          ],
          "name": "stdout"
        }
      ]
    },
    {
      "cell_type": "code",
      "metadata": {
        "colab": {
          "base_uri": "https://localhost:8080/"
        },
        "id": "3QyvDp-fRbMB",
        "outputId": "136f2b0d-4e53-469f-8958-94b8e6997107"
      },
      "source": [
        "if 23 < 32:  #conditional statement\n",
        "  print(\"nope\")\n",
        "else:\n",
        "  print(\"yep\")"
      ],
      "execution_count": null,
      "outputs": [
        {
          "output_type": "stream",
          "text": [
            "nope\n"
          ],
          "name": "stdout"
        }
      ]
    },
    {
      "cell_type": "code",
      "metadata": {
        "colab": {
          "base_uri": "https://localhost:8080/"
        },
        "id": "cznE-cE-Rs3k",
        "outputId": "a51a5834-7807-4257-e334-fffd3ed26a77"
      },
      "source": [
        "x = 23  #variables\n",
        "y = \"dhi\"\n",
        "print(x,y)"
      ],
      "execution_count": null,
      "outputs": [
        {
          "output_type": "stream",
          "text": [
            "23 dhi\n"
          ],
          "name": "stdout"
        }
      ]
    },
    {
      "cell_type": "code",
      "metadata": {
        "colab": {
          "base_uri": "https://localhost:8080/",
          "height": 35
        },
        "id": "MiRxuZChR2vQ",
        "outputId": "b902fea3-90e2-437e-92b1-14489cf40583"
      },
      "source": [
        "#single line comment\n",
        "\"\"\"\n",
        "multi\n",
        "line\n",
        "comment\n",
        "\"\"\""
      ],
      "execution_count": null,
      "outputs": [
        {
          "output_type": "execute_result",
          "data": {
            "application/vnd.google.colaboratory.intrinsic+json": {
              "type": "string"
            },
            "text/plain": [
              "'\\nmulti\\nline\\ncomment\\n'"
            ]
          },
          "metadata": {
            "tags": []
          },
          "execution_count": 131
        }
      ]
    },
    {
      "cell_type": "code",
      "metadata": {
        "colab": {
          "base_uri": "https://localhost:8080/"
        },
        "id": "dbjMaLBoSJd3",
        "outputId": "aa4b8152-3714-4a20-9f79-df63ccbfec03"
      },
      "source": [
        "x = str(23)  #typecasting\n",
        "y = int(23.82)\n",
        "z = float(23)\n",
        "a = x + \"x\"\n",
        "print(x, y, z)\n",
        "print(a)"
      ],
      "execution_count": null,
      "outputs": [
        {
          "output_type": "stream",
          "text": [
            "23 23 23.0\n",
            "23x\n"
          ],
          "name": "stdout"
        }
      ]
    },
    {
      "cell_type": "code",
      "metadata": {
        "colab": {
          "base_uri": "https://localhost:8080/"
        },
        "id": "s5UGZ5ZUSoOI",
        "outputId": "3d87aa83-6e2c-4d0b-cb52-e4263df52940"
      },
      "source": [
        "x = \"dhi\"  #type\n",
        "print(type(x))\n",
        "print(isinstance(x, str))"
      ],
      "execution_count": null,
      "outputs": [
        {
          "output_type": "stream",
          "text": [
            "<class 'str'>\n",
            "True\n"
          ],
          "name": "stdout"
        }
      ]
    },
    {
      "cell_type": "code",
      "metadata": {
        "id": "EEhb-WNgTEci"
      },
      "source": [
        "#variable name techniques\n",
        "myVariableName = \"dhiyanesh\"  #camelCase\n",
        "MyVariableName = \"dhiyanesh\"  #PascalCase\n",
        "my_variable_name = \"dhiyanesh\"  #snake_case"
      ],
      "execution_count": null,
      "outputs": []
    },
    {
      "cell_type": "code",
      "metadata": {
        "colab": {
          "base_uri": "https://localhost:8080/"
        },
        "id": "9pnaSGKLUlwO",
        "outputId": "63e41510-3384-45e3-f45d-d2e25fcddc3e"
      },
      "source": [
        "x, y, z = 1, 2, 3  #assign multiple values\n",
        "print(x, y, z)\n",
        "\n",
        "a = b = c = 1  #one value to multiple variables\n",
        "print(a, b, c)"
      ],
      "execution_count": null,
      "outputs": [
        {
          "output_type": "stream",
          "text": [
            "1 2 3\n",
            "1 1 1\n"
          ],
          "name": "stdout"
        }
      ]
    },
    {
      "cell_type": "code",
      "metadata": {
        "colab": {
          "base_uri": "https://localhost:8080/"
        },
        "id": "TZmllbUrVBhG",
        "outputId": "6eafb3bd-654a-41ef-ee52-b0c4538f2105"
      },
      "source": [
        "l = [\"x\", \"t\", \"q\"]  #unpacking\n",
        "a, b, c = l\n",
        "print(a, b, c)"
      ],
      "execution_count": null,
      "outputs": [
        {
          "output_type": "stream",
          "text": [
            "x t q\n"
          ],
          "name": "stdout"
        }
      ]
    },
    {
      "cell_type": "code",
      "metadata": {
        "colab": {
          "base_uri": "https://localhost:8080/"
        },
        "id": "2uuYcxO3VvKu",
        "outputId": "08a6d637-d7a0-4917-8184-bd86027a8eaa"
      },
      "source": [
        "#global and local variable\n",
        "x = \"global\"\n",
        "def myFunc():\n",
        "  x = \"local\"\n",
        "  global y\n",
        "  y = \"global inside function\"\n",
        "  print(x)\n",
        "  print(y)\n",
        "myFunc()\n",
        "print(x)\n",
        "print(y)"
      ],
      "execution_count": null,
      "outputs": [
        {
          "output_type": "stream",
          "text": [
            "local\n",
            "global inside function\n",
            "global\n",
            "global inside function\n"
          ],
          "name": "stdout"
        }
      ]
    },
    {
      "cell_type": "code",
      "metadata": {
        "colab": {
          "base_uri": "https://localhost:8080/"
        },
        "id": "yLkmtzuWWXSF",
        "outputId": "587c17af-5e9b-4fba-b123-749a5cf66e6a"
      },
      "source": [
        "#multiline string\n",
        "a = \"\"\"dhiyanesh is\n",
        "funny\"\"\"\n",
        "print(a)"
      ],
      "execution_count": null,
      "outputs": [
        {
          "output_type": "stream",
          "text": [
            "dhiyanesh is\n",
            "funny\n"
          ],
          "name": "stdout"
        }
      ]
    },
    {
      "cell_type": "code",
      "metadata": {
        "colab": {
          "base_uri": "https://localhost:8080/"
        },
        "id": "f1oT4ApTAcyW",
        "outputId": "0f86fb8f-b530-4ad2-f819-48302ff17a95"
      },
      "source": [
        "for a in \"qwerty\":  #looping through a string\n",
        "  print(a, end = \"\")"
      ],
      "execution_count": null,
      "outputs": [
        {
          "output_type": "stream",
          "text": [
            "qwerty"
          ],
          "name": "stdout"
        }
      ]
    },
    {
      "cell_type": "code",
      "metadata": {
        "colab": {
          "base_uri": "https://localhost:8080/"
        },
        "id": "l2jtqMpIArto",
        "outputId": "a94d1902-f0f6-4118-f062-90f8fd36bf6d"
      },
      "source": [
        "s = \"asdfg\"\n",
        "print(s[4])    #indexing\n",
        "print(s[-5])\n",
        "print(s[0:3])  #slicing\n",
        "print(s[:-2])"
      ],
      "execution_count": null,
      "outputs": [
        {
          "output_type": "stream",
          "text": [
            "5\n",
            "g\n",
            "a\n",
            "asd\n",
            "asd\n"
          ],
          "name": "stdout"
        }
      ]
    },
    {
      "cell_type": "code",
      "metadata": {
        "colab": {
          "base_uri": "https://localhost:8080/"
        },
        "id": "6bFiXd1QBC40",
        "outputId": "82cbef96-deb7-4a50-bd1e-31de2317c4c9"
      },
      "source": [
        "#check string\n",
        "s = \"dhiyanesh is from madurai\"\n",
        "print(\"dh\" in s)\n",
        "if \"qwe\" not in s:\n",
        "  print(\"not present\")"
      ],
      "execution_count": null,
      "outputs": [
        {
          "output_type": "stream",
          "text": [
            "True\n",
            "not present\n"
          ],
          "name": "stdout"
        }
      ]
    },
    {
      "cell_type": "code",
      "metadata": {
        "id": "ITZeds_uBVj3",
        "colab": {
          "base_uri": "https://localhost:8080/"
        },
        "outputId": "fd3fd519-cd79-4528-d8ae-07585dd6b393"
      },
      "source": [
        "#string methods\n",
        "s = \"is qweRTY,zxc  \"\n",
        "print(len(s))  #length\n",
        "print(s.upper())\n",
        "print(s.lower())\n",
        "print(s.isupper())\n",
        "print(s.islower())\n",
        "print(s.strip())  #removes whitespace from beginning or the end\n",
        "print(s.lstrip(\"is\"))\n",
        "print(s.rstrip())  #by default removes spaces\n",
        "print(s.replace(\"q\", \"a\"))\n",
        "print(s.split( ))  #by default split by spaces\n",
        "print(s.split(\",\"))\n",
        "print(type(s.split()))"
      ],
      "execution_count": null,
      "outputs": [
        {
          "output_type": "stream",
          "text": [
            "IS QWERTY,ZXC  \n",
            "is qwerty,zxc  \n",
            "False\n",
            "False\n",
            "is qweRTY,zxc\n",
            " qweRTY,zxc  \n",
            "is qweRTY,zxc\n",
            "is aweRTY,zxc  \n",
            "['is', 'qweRTY,zxc']\n",
            "['is qweRTY', 'zxc  ']\n",
            "<class 'list'>\n"
          ],
          "name": "stdout"
        }
      ]
    },
    {
      "cell_type": "code",
      "metadata": {
        "colab": {
          "base_uri": "https://localhost:8080/"
        },
        "id": "h3vA7rXZ6-Ua",
        "outputId": "1fec1c59-9724-4199-d80b-e6f7c630e55d"
      },
      "source": [
        "#format\n",
        "x = 7\n",
        "txt = \"Dhoni's number is {}\"\n",
        "print(txt.format(x))\n",
        "print(type(format(x)))"
      ],
      "execution_count": null,
      "outputs": [
        {
          "output_type": "stream",
          "text": [
            "Dhoni's number is 7\n",
            "<class 'str'>\n"
          ],
          "name": "stdout"
        }
      ]
    },
    {
      "cell_type": "code",
      "metadata": {
        "colab": {
          "base_uri": "https://localhost:8080/"
        },
        "id": "yZesXkeGECOT",
        "outputId": "834d7e05-ec02-42a2-9229-e6078fbad75c"
      },
      "source": [
        "#escape characters\n",
        "txt = \"I'm going to \\\"watch\\\" karnan\"\n",
        "print(txt)\n",
        "txt = \"this is new \\nline\"\n",
        "print(txt) \n",
        "txt = \"this is \\ttab\"\n",
        "print(txt)"
      ],
      "execution_count": null,
      "outputs": [
        {
          "output_type": "stream",
          "text": [
            "I'm going to \"watch\" karnan\n",
            "this is new \n",
            "line\n",
            "this is \ttab\n"
          ],
          "name": "stdout"
        }
      ]
    },
    {
      "cell_type": "code",
      "metadata": {
        "colab": {
          "base_uri": "https://localhost:8080/"
        },
        "id": "HmG_z4mrFFbi",
        "outputId": "1f57ad6f-9023-4eae-8e6a-f8aaaf229245"
      },
      "source": [
        "#more string methods\n",
        "s = \"strinG is fun\"\n",
        "print(s)\n",
        "print(s.capitalize())  #capitalize 1st character\n",
        "print(s.title())  #capitalize the 1st character of each word\n",
        "print(s.count(\"s\"))  #count the occurence\n",
        "print(s.find(\"s\"))  #returns the position of 1st occurence\n",
        "print(s.swapcase())"
      ],
      "execution_count": null,
      "outputs": [
        {
          "output_type": "stream",
          "text": [
            "strinG is fun\n",
            "String is fun\n",
            "String Is Fun\n",
            "2\n",
            "0\n",
            "STRINg IS FUN\n"
          ],
          "name": "stdout"
        }
      ]
    },
    {
      "cell_type": "code",
      "metadata": {
        "id": "Vv1PXc31GEIh",
        "colab": {
          "base_uri": "https://localhost:8080/"
        },
        "outputId": "f890dfe8-31b1-48bb-d98d-8a8d54cd0e6a"
      },
      "source": [
        "#boolean\n",
        "print(12 == 12)\n",
        "print(bool(\"dhi\"), bool(\"\"))\n",
        "print(bool(12), bool(0))"
      ],
      "execution_count": null,
      "outputs": [
        {
          "output_type": "stream",
          "text": [
            "True\n",
            "True False\n",
            "True False\n"
          ],
          "name": "stdout"
        }
      ]
    },
    {
      "cell_type": "code",
      "metadata": {
        "colab": {
          "base_uri": "https://localhost:8080/"
        },
        "id": "A6xzQm-Y-TFE",
        "outputId": "115f62bf-590c-40e5-994d-30deab092ab8"
      },
      "source": [
        "#boolean in function\n",
        "def func():\n",
        "  return True\n",
        "print(func())\n",
        "if func():\n",
        "  print(\"yes\")\n",
        "else:\n",
        "  print(\"no\")\n",
        "\n",
        "x = 0\n",
        "print(isinstance(x,str))  #built-in function"
      ],
      "execution_count": null,
      "outputs": [
        {
          "output_type": "stream",
          "text": [
            "True\n",
            "yes\n",
            "False\n"
          ],
          "name": "stdout"
        }
      ]
    },
    {
      "cell_type": "code",
      "metadata": {
        "colab": {
          "base_uri": "https://localhost:8080/"
        },
        "id": "Ws107pCA_sj7",
        "outputId": "e357f40a-4379-4a54-d490-d4a7bd9ef096"
      },
      "source": [
        "#operators\n",
        "print(\"qwe\" is \"qwe\")  #identity opertors #true if both are same\n",
        "print([1, 3, 4] is not [1, 2, 3, 4])\n",
        "print(\"qwe\" in \"qwerty\")  #membership opertors \n",
        "print(\"qwe\" not in \"qwerty\")"
      ],
      "execution_count": null,
      "outputs": [
        {
          "output_type": "stream",
          "text": [
            "True\n",
            "True\n",
            "True\n",
            "False\n"
          ],
          "name": "stdout"
        }
      ]
    },
    {
      "cell_type": "code",
      "metadata": {
        "colab": {
          "base_uri": "https://localhost:8080/"
        },
        "id": "AU4uTCu-CsUG",
        "outputId": "2ec83014-326e-4e69-fd71-4a9ff9ac3bdf"
      },
      "source": [
        "#lists are mutable but strings are immutable\n",
        "l = [1, 2, 34, 45, 21]\n",
        "l[0] = \"mutable\"\n",
        "print(l)\n",
        "txt = \"strings\"\n",
        "####txt[0] = \"immutable\"\n",
        "print(txt)"
      ],
      "execution_count": null,
      "outputs": [
        {
          "output_type": "stream",
          "text": [
            "['mutable', 2, 34, 45, 21]\n",
            "strings\n"
          ],
          "name": "stdout"
        }
      ]
    },
    {
      "cell_type": "code",
      "metadata": {
        "colab": {
          "base_uri": "https://localhost:8080/"
        },
        "id": "FRLu5dJsEWju",
        "outputId": "0d4d8513-74cc-496a-e6dd-c70c74b55a0d"
      },
      "source": [
        "#lists\n",
        "l = [\"12\", 2, 3, 4, 2]\n",
        "print(l.index(2))\n",
        "print(l.count(2))\n",
        "print(list(\"string\"))  #string to list\n",
        "\n",
        "ls = list(\"string - list\")  #list to string\n",
        "print(ls)\n",
        "s = \"\"\n",
        "for i in ls:\n",
        "  s = s + i\n",
        "print(s)\n",
        "\n",
        "if 2 in l:\n",
        "  print(\"present\")\n",
        "l[0:1] = [\"23\", \"21\"]\n",
        "print(l)\n",
        "l[1:3] = [\"one\"]\n",
        "print(l)"
      ],
      "execution_count": null,
      "outputs": [
        {
          "output_type": "stream",
          "text": [
            "1\n",
            "2\n",
            "['s', 't', 'r', 'i', 'n', 'g']\n",
            "['s', 't', 'r', 'i', 'n', 'g', ' ', '-', ' ', 'l', 'i', 's', 't']\n",
            "string - list\n",
            "present\n",
            "['23', '21', 2, 3, 4, 2]\n",
            "['23', 'one', 3, 4, 2]\n"
          ],
          "name": "stdout"
        }
      ]
    },
    {
      "cell_type": "code",
      "metadata": {
        "colab": {
          "base_uri": "https://localhost:8080/"
        },
        "id": "Olz3tofEE0GI",
        "outputId": "a17fd6bb-d7bb-48e4-e31f-a3c54709286b"
      },
      "source": [
        "#lists built-in functions\n",
        "m = [1, 2, 3, 4, 5]\n",
        "n = [9, 8, 7, 6]\n",
        "print(len(m))  #length of the list\n",
        "m.insert(1, \"one\")  #inserts an item at the specified index\n",
        "print(m)\n",
        "m.append(6)  #adds an item to the end\n",
        "print(m)\n",
        "m.extend(n)  #appends elements from another list \n",
        "print(m)\n",
        "m.remove(\"one\")  #removes the specified item\n",
        "print(m)\n",
        "m.pop(0)  #removes the specified index #if index not mentioned removes the last element\n",
        "print(m)\n",
        "del m[0]  #removes the specified index\n",
        "print(m)\n",
        "m.clear()  #empties the list\n",
        "print(m)\n",
        "del m  #delete the list completely\n",
        "####print(m)"
      ],
      "execution_count": null,
      "outputs": [
        {
          "output_type": "stream",
          "text": [
            "5\n",
            "[1, 'one', 2, 3, 4, 5]\n",
            "[1, 'one', 2, 3, 4, 5, 6]\n",
            "[1, 'one', 2, 3, 4, 5, 6, 9, 8, 7, 6]\n",
            "[1, 2, 3, 4, 5, 6, 9, 8, 7, 6]\n",
            "[2, 3, 4, 5, 6, 9, 8, 7, 6]\n",
            "[3, 4, 5, 6, 9, 8, 7, 6]\n",
            "[]\n"
          ],
          "name": "stdout"
        }
      ]
    },
    {
      "cell_type": "code",
      "metadata": {
        "colab": {
          "base_uri": "https://localhost:8080/"
        },
        "id": "UQ2VmdXvX-n-",
        "outputId": "8555c342-559f-4d2d-9f13-d811935d2b20"
      },
      "source": [
        "#copy\n",
        "\"\"\"You cannot copy a list simply by typing list2 = list1, \n",
        "because: list2 will only be a reference to list1, \n",
        "and changes made in list1 will automatically also be made in list2.\"\"\"\n",
        "thisList = [1, 3, 5]\n",
        "myList = thisList.copy()  #way1\n",
        "print(myList)\n",
        "myList2 = list(thisList)  #way2\n",
        "print(myList2)"
      ],
      "execution_count": null,
      "outputs": [
        {
          "output_type": "stream",
          "text": [
            "[1, 3, 5]\n",
            "[1, 3, 5]\n"
          ],
          "name": "stdout"
        }
      ]
    },
    {
      "cell_type": "code",
      "metadata": {
        "colab": {
          "base_uri": "https://localhost:8080/"
        },
        "id": "3zGfcz9OPYd3",
        "outputId": "d07d4005-f680-4b33-9669-bcef140e2417"
      },
      "source": [
        "#loop through a ist\n",
        "thisList = [\"this\", \"is\", \"fun\"]\n",
        "for x in thisList:\n",
        "  print(x, end = \" \")\n",
        "print(\"\\n\")\n",
        "for i in range(len(thisList)):\n",
        "  print(thisList[i], end = \" \")"
      ],
      "execution_count": null,
      "outputs": [
        {
          "output_type": "stream",
          "text": [
            "this is fun \n",
            "\n",
            "this is fun "
          ],
          "name": "stdout"
        }
      ]
    },
    {
      "cell_type": "code",
      "metadata": {
        "colab": {
          "base_uri": "https://localhost:8080/"
        },
        "id": "e3wPS7TISEFT",
        "outputId": "63270d43-158d-4e7b-b37c-5e45ec1a7c01"
      },
      "source": [
        "#list comprehension\n",
        "thisList = [1, 2, 3, 4]\n",
        "[print(x, end = \" \") for x in thisList]\n",
        "print(\"\\n\")\n",
        "newList = [x for x in thisList if x%2 == 0]\n",
        "print(newList, end = \" \")\n",
        "newList1 = [input(x) for x in range(2)]\n",
        "print(newList1)\n"
      ],
      "execution_count": null,
      "outputs": [
        {
          "output_type": "stream",
          "text": [
            "1 2 3 4 \n",
            "\n",
            "[2, 4] 01\n",
            "123\n",
            "['01', '23']\n",
            "3 4\n",
            "3 4\n"
          ],
          "name": "stdout"
        }
      ]
    },
    {
      "cell_type": "code",
      "metadata": {
        "colab": {
          "base_uri": "https://localhost:8080/"
        },
        "id": "_zGdZC9lUeW2",
        "outputId": "61dbf1d9-b131-43ea-e7a0-68ca0e352ff7"
      },
      "source": [
        "#sort\n",
        "thisList = [1, 5, 2, 3, 4, 0, 9, 7, 6]\n",
        "thisList.sort()  #ascending\n",
        "print(thisList) \n",
        "thisList.sort(reverse = True)  #descending\n",
        "print(thisList)\n",
        "thisList.reverse()  #reverse\n",
        "print(thisList)"
      ],
      "execution_count": null,
      "outputs": [
        {
          "output_type": "stream",
          "text": [
            "[0, 1, 2, 3, 4, 5, 6, 7, 9]\n",
            "[9, 7, 6, 5, 4, 3, 2, 1, 0]\n",
            "[0, 1, 2, 3, 4, 5, 6, 7, 9]\n"
          ],
          "name": "stdout"
        }
      ]
    },
    {
      "cell_type": "code",
      "metadata": {
        "colab": {
          "base_uri": "https://localhost:8080/"
        },
        "id": "pX0b8mg_We9w",
        "outputId": "42ff7bd8-94f7-4c3a-bdd7-0c757b74357e"
      },
      "source": [
        "#tuples\n",
        "#tuples are immutable\n",
        "thisTuple = (1, 2, 3)\n",
        "####thisTuple[0] = 5\n",
        "print(thisTuple)"
      ],
      "execution_count": null,
      "outputs": [
        {
          "output_type": "stream",
          "text": [
            "(1, 2, 3)\n"
          ],
          "name": "stdout"
        }
      ]
    },
    {
      "cell_type": "code",
      "metadata": {
        "colab": {
          "base_uri": "https://localhost:8080/"
        },
        "id": "sloTGAD5l7ey",
        "outputId": "9bd9218f-b607-47b4-a4ab-e38ffe863161"
      },
      "source": [
        "#tuple methods\n",
        "t = (1, 2, 3, 3)\n",
        "print(t.count(3))\n",
        "print(t.index(1))\n",
        "#tuple is converted to list using list() method and list methods are applied"
      ],
      "execution_count": null,
      "outputs": [
        {
          "output_type": "stream",
          "text": [
            "2\n",
            "0\n"
          ],
          "name": "stdout"
        }
      ]
    },
    {
      "cell_type": "code",
      "metadata": {
        "colab": {
          "base_uri": "https://localhost:8080/"
        },
        "id": "fE3EkI1mnWd0",
        "outputId": "4b12083f-f30a-4b10-8a09-925e384559d6"
      },
      "source": [
        "#Sets \n",
        "#Sets are immutable, unordered, no duplicates\n",
        "\"\"\"A set itself may be modified, \n",
        "but the elements contained in the set must be of an immutable type.\"\"\"\n",
        "s = {1, 2, 3, 6, 7, 4, 3, 59, 45, 5, 4, 3}\n",
        "####print(s[0])\n",
        "print(s)\n",
        "print(len(s))  #length"
      ],
      "execution_count": null,
      "outputs": [
        {
          "output_type": "stream",
          "text": [
            "{1, 2, 3, 4, 5, 6, 7, 45, 59}\n",
            "9\n"
          ],
          "name": "stdout"
        }
      ]
    },
    {
      "cell_type": "code",
      "metadata": {
        "colab": {
          "base_uri": "https://localhost:8080/"
        },
        "id": "KACZ5Jx8AucH",
        "outputId": "8d044e14-bb59-4408-e77b-72a72b7e0e1e"
      },
      "source": [
        "#set()\n",
        "l = [1, 2, 3, 4, 5, 1, 3, 4, 5, 0]\n",
        "ls = set(l)\n",
        "sl = list(ls)\n",
        "print(sl)"
      ],
      "execution_count": null,
      "outputs": [
        {
          "output_type": "stream",
          "text": [
            "[0, 1, 2, 3, 4, 5]\n"
          ],
          "name": "stdout"
        }
      ]
    },
    {
      "cell_type": "code",
      "metadata": {
        "colab": {
          "base_uri": "https://localhost:8080/"
        },
        "id": "qMzejWaLB5zz",
        "outputId": "50cc36f6-7023-4814-9c4a-19805e385c7e"
      },
      "source": [
        "#access items\n",
        "s = {1, 2, 3, 4, 4}\n",
        "for x in s:\n",
        "  print(x, end = \" \")"
      ],
      "execution_count": null,
      "outputs": [
        {
          "output_type": "stream",
          "text": [
            "1 2 3 4 "
          ],
          "name": "stdout"
        }
      ]
    },
    {
      "cell_type": "code",
      "metadata": {
        "colab": {
          "base_uri": "https://localhost:8080/"
        },
        "id": "lBATqet5CKAf",
        "outputId": "a27ac696-d9ef-4c16-90bc-0162b4d0d0bd"
      },
      "source": [
        "s = {1, 2, 3, 4, 7, 4}\n",
        "s.add(\"qwe\")  #add an item at the end\n",
        "print(s)\n",
        "t = {2, 6, 7, 8, 9, 10}\n",
        "s.update(t)  #add sets/ any iterable objects(list, tuples, dictionaries) \n",
        "print(s)\n",
        "u = {12, 23, 34, 56}\n",
        "print(s.union(u))  #join sets\n",
        "s.remove(\"qwe\")  #removes the item, instead discard can also be used\n",
        "print(s)\n",
        "print(s.pop())   #removes the last item #removed element\n",
        "print(s)\n",
        "s.clear()  #clears the set\n",
        "print(s)\n",
        "del s  #delete the set completely\n",
        "####print(s)"
      ],
      "execution_count": null,
      "outputs": [
        {
          "output_type": "stream",
          "text": [
            "{1, 2, 3, 4, 7, 'qwe'}\n",
            "{1, 2, 3, 4, 6, 7, 8, 9, 10, 'qwe'}\n",
            "{1, 2, 3, 4, 34, 6, 7, 8, 9, 10, 12, 23, 56, 'qwe'}\n",
            "{1, 2, 3, 4, 6, 7, 8, 9, 10}\n",
            "1\n",
            "{2, 3, 4, 6, 7, 8, 9, 10}\n",
            "set()\n"
          ],
          "name": "stdout"
        }
      ]
    },
    {
      "cell_type": "code",
      "metadata": {
        "colab": {
          "base_uri": "https://localhost:8080/"
        },
        "id": "mx_OemP3C_46",
        "outputId": "f9d3b663-f35a-4a53-eba0-f5b69ca72e42"
      },
      "source": [
        "#more set methods\n",
        "x = {\"hello\", \"motto\"}\n",
        "y = {\"hey\", \"hello\"}\n",
        "x.intersection_update(y)  # method will keep only the items that are present in both sets.\n",
        "print(x)\n",
        "x = {\"hello\", \"motto\"}\n",
        "z = x.intersection(y)  #method will return a new set, that only contains the items that are present in both sets.\n",
        "print(z)"
      ],
      "execution_count": null,
      "outputs": [
        {
          "output_type": "stream",
          "text": [
            "{'hello'}\n",
            "{'hello'}\n"
          ],
          "name": "stdout"
        }
      ]
    },
    {
      "cell_type": "code",
      "metadata": {
        "colab": {
          "base_uri": "https://localhost:8080/"
        },
        "id": "hlghGKQzHc6L",
        "outputId": "8a8a6307-6e3c-476f-ee81-a134ebf3f61c"
      },
      "source": [
        "#dictionaries\n",
        "#dictionaries are mutable\n",
        "thisDict = {\n",
        "    \"brand\" : \"moto\",\n",
        "    \"model\" : \"G5s+\",\n",
        "    \"year\"  : \"2018\"\n",
        "}\n",
        "print(thisDict[\"model\"])  #accessing\n",
        "print(thisDict.get(\"model\"))  #accessing\n",
        "print(len(thisDict))  #length\n",
        "print(thisDict.keys())  #keys\n",
        "print(thisDict.values())  #values\n",
        "print(thisDict.items())  #items\n",
        "if \"model\" in thisDict:  #check if key exists\n",
        "  print(\"yes\")\n",
        "thisDict.update({\"year\" : \"2017\"})  #update\n",
        "print(thisDict)\n",
        "thisDict.update({\"month\" : \"may\"})  #adding new item\n",
        "print(thisDict)\n",
        "thisDict[\"year\"] = \"2018\"  #change\n",
        "print(thisDict)\n",
        "thisDict[\"color\"] = \"black\"  #adding new item\n",
        "print(thisDict)\n",
        "thisDict.pop(\"month\")  #removing\n",
        "print(thisDict)\n",
        "thisDict.popitem()  #remove the last item\n",
        "print(thisDict)\n",
        "del thisDict[\"year\"]  \n",
        "print(thisDict)\n",
        "thisDict.clear()\n",
        "print(thisDict)\n",
        "del thisDict\n",
        "####print(thisDict)"
      ],
      "execution_count": null,
      "outputs": [
        {
          "output_type": "stream",
          "text": [
            "G5s+\n",
            "G5s+\n",
            "3\n",
            "dict_keys(['brand', 'model', 'year'])\n",
            "dict_values(['moto', 'G5s+', '2018'])\n",
            "dict_items([('brand', 'moto'), ('model', 'G5s+'), ('year', '2018')])\n",
            "yes\n",
            "{'brand': 'moto', 'model': 'G5s+', 'year': '2017'}\n",
            "{'brand': 'moto', 'model': 'G5s+', 'year': '2017', 'month': 'may'}\n",
            "{'brand': 'moto', 'model': 'G5s+', 'year': '2018', 'month': 'may'}\n",
            "{'brand': 'moto', 'model': 'G5s+', 'year': '2018', 'month': 'may', 'color': 'black'}\n",
            "{'brand': 'moto', 'model': 'G5s+', 'year': '2018', 'color': 'black'}\n",
            "{'brand': 'moto', 'model': 'G5s+', 'year': '2018'}\n",
            "{'brand': 'moto', 'model': 'G5s+'}\n",
            "{}\n"
          ],
          "name": "stdout"
        }
      ]
    },
    {
      "cell_type": "code",
      "metadata": {
        "colab": {
          "base_uri": "https://localhost:8080/"
        },
        "id": "8mguvjorQpKD",
        "outputId": "97b85760-1309-4f2f-ad30-5fcf15b797e8"
      },
      "source": [
        "#loop\n",
        "thisDict = {\n",
        "    \"brand\" : \"moto\",\n",
        "    \"model\" : \"G5s+\",\n",
        "    \"year\"  : \"2018\"\n",
        "}\n",
        "for x in thisDict:\n",
        "  print(x)\n",
        "  print(thisDict[x])"
      ],
      "execution_count": null,
      "outputs": [
        {
          "output_type": "stream",
          "text": [
            "brand\n",
            "moto\n",
            "model\n",
            "G5s+\n",
            "year\n",
            "2018\n"
          ],
          "name": "stdout"
        }
      ]
    },
    {
      "cell_type": "code",
      "metadata": {
        "colab": {
          "base_uri": "https://localhost:8080/"
        },
        "id": "0FcSYAh9XYkI",
        "outputId": "a756ac80-cf3e-4d4e-d7be-f142b55b3f82"
      },
      "source": [
        "#copy\n",
        "\"\"\"You cannot copy a dictionary simply by typing dict2 = dict1, \n",
        "because: dict2 will only be a reference to dict1, \n",
        "and changes made in dict1 will automatically also be made in dict2.\"\"\"\n",
        "thisDict = {\n",
        "    \"brand\" : \"moto\",\n",
        "    \"model\" : \"G5s+\",\n",
        "    \"year\"  : \"2018\"\n",
        "}\n",
        "myDict = thisDict.copy()  #way1\n",
        "print(myDict)\n",
        "myDict2 = dict(thisDict)  #way2\n",
        "print(myDict2)"
      ],
      "execution_count": null,
      "outputs": [
        {
          "output_type": "stream",
          "text": [
            "{'brand': 'moto', 'model': 'G5s+', 'year': '2018'}\n",
            "{'brand': 'moto', 'model': 'G5s+', 'year': '2018'}\n"
          ],
          "name": "stdout"
        }
      ]
    },
    {
      "cell_type": "code",
      "metadata": {
        "colab": {
          "base_uri": "https://localhost:8080/"
        },
        "id": "EUSRJGLyZCuv",
        "outputId": "9da60ab1-cce9-42fe-c380-d505e15b771a"
      },
      "source": [
        "#nested dictionaries\n",
        "thisDict = {\"phone1\" : {\"brand\" : \"moto\", \"model\" : \"G5s+\"},\n",
        "            \"phone2\" : {\"brand\" : \"google\", \"model\" : \"pixel 4a\"}}\n",
        "print(thisDict)"
      ],
      "execution_count": null,
      "outputs": [
        {
          "output_type": "stream",
          "text": [
            "{'phone1': {'brand': 'moto', 'model': 'G5s+'}, 'phone2': {'brand': 'google', 'model': 'pixel 4a'}}\n"
          ],
          "name": "stdout"
        }
      ]
    },
    {
      "cell_type": "code",
      "metadata": {
        "colab": {
          "base_uri": "https://localhost:8080/",
          "height": 69
        },
        "id": "F9s71zpAZ4dD",
        "outputId": "48921623-108e-4d45-9ecb-c1685fd1d1eb"
      },
      "source": [
        "#conditional statements\n",
        "a = 12\n",
        "b = 13\n",
        "if a > b:\n",
        "  print(\"a is greater\")\n",
        "elif a == b:\n",
        "  print(\"equal\")\n",
        "elif b > a:\n",
        "  print(\"b is greater\")\n",
        "else:\n",
        "  pass   #pass\n",
        "\n",
        "\"\"\"if statements cannot be empty, \n",
        "but if you for some reason have an if statement with no content, \n",
        "put in the pass statement to avoid getting an error.\"\"\""
      ],
      "execution_count": null,
      "outputs": [
        {
          "output_type": "stream",
          "text": [
            "b is greater\n"
          ],
          "name": "stdout"
        },
        {
          "output_type": "execute_result",
          "data": {
            "application/vnd.google.colaboratory.intrinsic+json": {
              "type": "string"
            },
            "text/plain": [
              "'if statements cannot be empty, \\nbut if you for some reason have an if statement with no content, \\nput in the pass statement to avoid getting an error.'"
            ]
          },
          "metadata": {
            "tags": []
          },
          "execution_count": 167
        }
      ]
    },
    {
      "cell_type": "code",
      "metadata": {
        "colab": {
          "base_uri": "https://localhost:8080/"
        },
        "id": "WrREqHT2e3ZL",
        "outputId": "59602cb9-f31a-48f7-8778-72919b099050"
      },
      "source": [
        "#loop statements\n",
        "#while loop\n",
        "i = -1\n",
        "while(i < 6):\n",
        "  i += 1\n",
        "  if (i == 1):\n",
        "    continue  #Continue to the next iteration\n",
        "  print(i)\n",
        "  ##if (i == 3):\n",
        "    ##break   #Exit the loop\n",
        "else:  #run a block of code once when the condition no longer is true\n",
        "  print(\"done\")\n"
      ],
      "execution_count": null,
      "outputs": [
        {
          "output_type": "stream",
          "text": [
            "0\n",
            "2\n",
            "3\n",
            "4\n",
            "5\n",
            "6\n",
            "done\n"
          ],
          "name": "stdout"
        }
      ]
    },
    {
      "cell_type": "code",
      "metadata": {
        "id": "PcX6Aoyff-f-",
        "colab": {
          "base_uri": "https://localhost:8080/"
        },
        "outputId": "ecb4690b-45da-4f7a-dac4-ac874b4f16bc"
      },
      "source": [
        "#for loop\n",
        "for x in \"dhi\":\n",
        "  print(x)\n",
        "for x in range(0, 5, 2):\n",
        "  print(x, end = \" \")"
      ],
      "execution_count": null,
      "outputs": [
        {
          "output_type": "stream",
          "text": [
            "d\n",
            "h\n",
            "i\n",
            "0 2 4 "
          ],
          "name": "stdout"
        }
      ]
    },
    {
      "cell_type": "code",
      "metadata": {
        "colab": {
          "base_uri": "https://localhost:8080/"
        },
        "id": "JWWyKBJDvcfU",
        "outputId": "63f5cc96-55b1-4a5c-cab7-46e7448e2534"
      },
      "source": [
        "#functions\n",
        "def func(fname):  #single argument\n",
        "  print(\"Your name is\", fname)\n",
        "func(\"dhiyanesh\")\n",
        "\n",
        "def func(*fname):  #if the number of arguments is unknown\n",
        "  print(\"Your name is\", fname)\n",
        "func(\"dhiyanesh\", \"n\")\n",
        "\n",
        "def func(a1, a2, a3, a4 = \"dhiyanesh\"):  #keyword arguments #default parameter value\n",
        "  print(a1, a2, a3, a4)\n",
        "func(a1 = \"the\", a3 = \"is\", a2 = \"name\")\n",
        "\n",
        "def func(thisList):  #passing a list\n",
        "  print(thisList)\n",
        "func([1, 2, 3])\n",
        "\n",
        "def func():\n",
        "  return 23  #return\n",
        "print(func())\n",
        "\n",
        "def tri_recursion(k):  #recursion\n",
        "  if (k > 0):\n",
        "    result = k + tri_recursion(k-1)\n",
        "    print(result)\n",
        "  else:\n",
        "    result = 0   #base condition\n",
        "  return result\n",
        "print(tri_recursion(4))\n",
        "\n",
        "func = lambda a, b : a*b  #lambda\n",
        "print(func(1, 2))  \n"
      ],
      "execution_count": null,
      "outputs": [
        {
          "output_type": "stream",
          "text": [
            "Your name is dhiyanesh\n",
            "Your name is ('dhiyanesh', 'n')\n",
            "the name is dhiyanesh\n",
            "[1, 2, 3]\n",
            "23\n",
            "1\n",
            "3\n",
            "6\n",
            "10\n",
            "10\n",
            "2\n"
          ],
          "name": "stdout"
        }
      ]
    },
    {
      "cell_type": "code",
      "metadata": {
        "id": "HBp03yRV25ED",
        "colab": {
          "base_uri": "https://localhost:8080/"
        },
        "outputId": "cc2ce756-d1ef-49a1-8fcb-a8ba9d7cd8fc"
      },
      "source": [
        "#exception handling\n",
        "try:  #test a block of code for errors\n",
        "  #x = 1/0\n",
        "  #print(a)\n",
        "  print(\"noError\")\n",
        "except ZeroDivisionError:  #handle the error\n",
        "  print(\"zero division error\")\n",
        "except NameError:\n",
        "  print(\"variable not defined\")\n",
        "except:\n",
        "  print(\"something went wrong\")\n",
        "else:  # if no errors were raised\n",
        "  print(\"success\")\n",
        "finally:  #executed regardless if the try block raises an error or not\n",
        "  print(\"try and except block is finished\")"
      ],
      "execution_count": null,
      "outputs": [
        {
          "output_type": "stream",
          "text": [
            "noError\n",
            "success\n",
            "try and except block is finished\n"
          ],
          "name": "stdout"
        }
      ]
    },
    {
      "cell_type": "code",
      "metadata": {
        "colab": {
          "base_uri": "https://localhost:8080/",
          "height": 197
        },
        "id": "23Vh2iIklvr4",
        "outputId": "aaa09e57-f0de-4afa-c8bc-f66157f594c3"
      },
      "source": [
        "#raise\n",
        "x = -9\n",
        "if x < 0:\n",
        "  ####raise Exception(\"not applicable\")  \n",
        "  #raise an error and stop the program "
      ],
      "execution_count": null,
      "outputs": [
        {
          "output_type": "error",
          "ename": "Exception",
          "evalue": "ignored",
          "traceback": [
            "\u001b[0;31m---------------------------------------------------------------------------\u001b[0m",
            "\u001b[0;31mException\u001b[0m                                 Traceback (most recent call last)",
            "\u001b[0;32m<ipython-input-10-2cfc953b64e8>\u001b[0m in \u001b[0;36m<module>\u001b[0;34m()\u001b[0m\n\u001b[1;32m      2\u001b[0m \u001b[0mx\u001b[0m \u001b[0;34m=\u001b[0m \u001b[0;34m-\u001b[0m\u001b[0;36m9\u001b[0m\u001b[0;34m\u001b[0m\u001b[0;34m\u001b[0m\u001b[0m\n\u001b[1;32m      3\u001b[0m \u001b[0;32mif\u001b[0m \u001b[0mx\u001b[0m \u001b[0;34m<\u001b[0m \u001b[0;36m0\u001b[0m\u001b[0;34m:\u001b[0m\u001b[0;34m\u001b[0m\u001b[0;34m\u001b[0m\u001b[0m\n\u001b[0;32m----> 4\u001b[0;31m   \u001b[0;32mraise\u001b[0m \u001b[0mException\u001b[0m\u001b[0;34m(\u001b[0m\u001b[0;34m\"not applicable\"\u001b[0m\u001b[0;34m)\u001b[0m\u001b[0;34m\u001b[0m\u001b[0;34m\u001b[0m\u001b[0m\n\u001b[0m",
            "\u001b[0;31mException\u001b[0m: not applicable"
          ]
        }
      ]
    },
    {
      "cell_type": "code",
      "metadata": {
        "id": "h0UA3DwDse55",
        "colab": {
          "base_uri": "https://localhost:8080/"
        },
        "outputId": "52de2b8e-8de7-4146-9dc4-d0cce1358336"
      },
      "source": [
        "#recursion\n",
        "def fact(n):\n",
        "  if n == 0:\n",
        "    return 1     #base condition\n",
        "  else:\n",
        "    return(n*fact(n-1))\n",
        "print(fact(5))"
      ],
      "execution_count": null,
      "outputs": [
        {
          "output_type": "stream",
          "text": [
            "120\n"
          ],
          "name": "stdout"
        }
      ]
    },
    {
      "cell_type": "code",
      "metadata": {
        "id": "7JSvJEikpwaX"
      },
      "source": [
        "#extracrunch\n",
        "inp = list(map(int,input().split()))  #multiple inputs separated by space\n",
        "inp1, inp2 = input(), input()  #two inputs separated by enter\n",
        "inp3, inp4 = input().split()  #two inputs separated by space\n",
        "print(inp)\n",
        "print(inp1, inp2, inp3, inp4)\n",
        "print(id(inp1))"
      ],
      "execution_count": null,
      "outputs": []
    },
    {
      "cell_type": "code",
      "metadata": {
        "id": "PDzOQDvZsXET",
        "colab": {
          "base_uri": "https://localhost:8080/"
        },
        "outputId": "6bd63e8a-0713-4ce7-a9a3-fb1b8ffcbbf9"
      },
      "source": [
        "#practice\n",
        "l = []\n",
        "n = int(input(\"enter \"))\n",
        "for i in range(n):\n",
        "    ele = int(input())\n",
        "    l.append(ele)\n",
        "pos = int(input())\n",
        "ele = int(input())\n",
        "l.insert(pos-1, ele)\n",
        "print(l)"
      ],
      "execution_count": null,
      "outputs": [
        {
          "output_type": "stream",
          "text": [
            "enter 3\n",
            "1\n",
            "2\n",
            "3\n"
          ],
          "name": "stdout"
        }
      ]
    },
    {
      "cell_type": "code",
      "metadata": {
        "id": "sq1YlYrGqBDc",
        "colab": {
          "base_uri": "https://localhost:8080/"
        },
        "outputId": "9a761d49-9d06-41f7-8d62-a8a99a9000ca"
      },
      "source": [
        "\"\"\"\n",
        "__name__ is a special variable\n",
        "__name__ == \"__main__\" serves as the entry point of a program\n",
        "If the python interpreter is running that module (the source file) as the main program, it sets the special __name__ variable to have a value “__main__”. \n",
        "If this file is being imported from another module, __name__ will be set to the module’s name.\n",
        "\"\"\"\n",
        "def put():\n",
        "  print(\"put func\")\n",
        "if __name__ == \"__main__\":\n",
        "  put()"
      ],
      "execution_count": null,
      "outputs": [
        {
          "output_type": "stream",
          "text": [
            "put func\n"
          ],
          "name": "stdout"
        }
      ]
    }
  ]
}